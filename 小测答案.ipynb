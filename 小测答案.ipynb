{
 "cells": [
  {
   "cell_type": "code",
   "execution_count": 2,
   "id": "ed22d6cf-fc81-46e4-9ff0-65894e258194",
   "metadata": {},
   "outputs": [],
   "source": [
    "def insert_data():\n",
    "    data = [\n",
    "        (\"10:45AM\", \"Python Oddities Explained\", \"255A\"),\n",
    "        (\"10:45AM\", \"Build-A-Database with Python\", \"255BC\"),\n",
    "        (\"11:30AM\", \"Sculpting Data for ML\", \"255A\"),\n",
    "        (\"11:45AM\", \"Web Scraping in Python\", \"355AB\"),\n",
    "        (\"12:15PM\", \"Handling Timezones in Python\", \"255BC\")\n",
    "    ]\n",
    "    sql = \"INSERT INTO conference_schedule (time, talk_title, room) VALUES \"\n",
    "    value_strings = []\n",
    "    for row in data:\n",
    "        value_strings.append(\"('{}', '{}', '{}')\".format(row[0], row[1], row[2]))\n",
    "    sql += \", \".join(value_strings)\n",
    "    return sql\n",
    "\n",
    "# Your existing code...\n",
    "import sqlite3\n",
    "\n",
    "def create_table():\n",
    "    return \"CREATE TABLE conference_schedule (id INTEGER PRIMARY KEY AUTOINCREMENT, time VARCHAR(7), talk_title VARCHAR(255), room VARCHAR(5))\"\n",
    "\n",
    "conn = sqlite3.connect(\":memory:\")\n",
    "c = conn.cursor()\n",
    "c.executescript(create_table())\n",
    "conn.commit()\n",
    "\n",
    "### BEGIN TESTS\n",
    "c.executescript(insert_data())\n",
    "conn.commit()\n",
    "### END TESTS\n"
   ]
  },
  {
   "cell_type": "code",
   "execution_count": null,
   "id": "7f0da3d9-ce00-434f-abfd-c821d5fc43fa",
   "metadata": {},
   "outputs": [],
   "source": []
  }
 ],
 "metadata": {
  "kernelspec": {
   "display_name": "Python 3 (ipykernel)",
   "language": "python",
   "name": "python3"
  },
  "language_info": {
   "codemirror_mode": {
    "name": "ipython",
    "version": 3
   },
   "file_extension": ".py",
   "mimetype": "text/x-python",
   "name": "python",
   "nbconvert_exporter": "python",
   "pygments_lexer": "ipython3",
   "version": "3.11.7"
  }
 },
 "nbformat": 4,
 "nbformat_minor": 5
}
